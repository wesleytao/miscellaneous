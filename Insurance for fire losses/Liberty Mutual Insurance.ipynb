{
 "cells": [
  {
   "cell_type": "code",
   "execution_count": 2,
   "metadata": {
    "collapsed": true
   },
   "outputs": [],
   "source": [
    "import numpy as np\n",
    "import pandas as pd\n",
    "import os"
   ]
  },
  {
   "cell_type": "code",
   "execution_count": 7,
   "metadata": {},
   "outputs": [
    {
     "data": {
      "text/plain": [
       "'C:\\\\Users\\\\Wesle\\\\.kaggle\\\\competitions\\\\liberty-mutual-fire-peril\\\\train.csv'"
      ]
     },
     "execution_count": 7,
     "metadata": {},
     "output_type": "execute_result"
    }
   ],
   "source": [
    "path=os.path.expanduser(\"~\\.kaggle\\competitions\\liberty-mutual-fire-peril\")\n"
   ]
  },
  {
   "cell_type": "code",
   "execution_count": 8,
   "metadata": {},
   "outputs": [
    {
     "name": "stderr",
     "output_type": "stream",
     "text": [
      "C:\\Wesley_Tao\\6.Software\\Anaconda\\lib\\site-packages\\IPython\\core\\interactiveshell.py:2717: DtypeWarning: Columns (8) have mixed types. Specify dtype option on import or set low_memory=False.\n",
      "  interactivity=interactivity, compiler=compiler, result=result)\n"
     ]
    }
   ],
   "source": [
    "# train_y_path=os.path.expanduser(\"C:\\Users\\Wesle\\.kaggle\\competitions\\liberty-mutual-fire-peril\")\n",
    "train=pd.read_csv(path+\"\\\\train.csv\")"
   ]
  },
  {
   "cell_type": "code",
   "execution_count": 9,
   "metadata": {},
   "outputs": [
    {
     "data": {
      "text/html": [
       "<div>\n",
       "<style scoped>\n",
       "    .dataframe tbody tr th:only-of-type {\n",
       "        vertical-align: middle;\n",
       "    }\n",
       "\n",
       "    .dataframe tbody tr th {\n",
       "        vertical-align: top;\n",
       "    }\n",
       "\n",
       "    .dataframe thead th {\n",
       "        text-align: right;\n",
       "    }\n",
       "</style>\n",
       "<table border=\"1\" class=\"dataframe\">\n",
       "  <thead>\n",
       "    <tr style=\"text-align: right;\">\n",
       "      <th></th>\n",
       "      <th>id</th>\n",
       "      <th>target</th>\n",
       "      <th>var1</th>\n",
       "      <th>var2</th>\n",
       "      <th>var3</th>\n",
       "      <th>var4</th>\n",
       "      <th>var5</th>\n",
       "      <th>var6</th>\n",
       "      <th>var7</th>\n",
       "      <th>var8</th>\n",
       "      <th>...</th>\n",
       "      <th>weatherVar227</th>\n",
       "      <th>weatherVar228</th>\n",
       "      <th>weatherVar229</th>\n",
       "      <th>weatherVar230</th>\n",
       "      <th>weatherVar231</th>\n",
       "      <th>weatherVar232</th>\n",
       "      <th>weatherVar233</th>\n",
       "      <th>weatherVar234</th>\n",
       "      <th>weatherVar235</th>\n",
       "      <th>weatherVar236</th>\n",
       "    </tr>\n",
       "  </thead>\n",
       "  <tbody>\n",
       "    <tr>\n",
       "      <th>0</th>\n",
       "      <td>1</td>\n",
       "      <td>0.0</td>\n",
       "      <td>Z</td>\n",
       "      <td>Z</td>\n",
       "      <td>Z</td>\n",
       "      <td>N1</td>\n",
       "      <td>Z</td>\n",
       "      <td>Z</td>\n",
       "      <td>3</td>\n",
       "      <td>1</td>\n",
       "      <td>...</td>\n",
       "      <td>0.170351</td>\n",
       "      <td>0.0</td>\n",
       "      <td>0.00000</td>\n",
       "      <td>0.000000</td>\n",
       "      <td>1.117353</td>\n",
       "      <td>1.215303</td>\n",
       "      <td>0.112556</td>\n",
       "      <td>2.355737</td>\n",
       "      <td>0.404655</td>\n",
       "      <td>0.138667</td>\n",
       "    </tr>\n",
       "    <tr>\n",
       "      <th>1</th>\n",
       "      <td>2</td>\n",
       "      <td>0.0</td>\n",
       "      <td>Z</td>\n",
       "      <td>Z</td>\n",
       "      <td>Z</td>\n",
       "      <td>C1</td>\n",
       "      <td>Z</td>\n",
       "      <td>Z</td>\n",
       "      <td>3</td>\n",
       "      <td>2</td>\n",
       "      <td>...</td>\n",
       "      <td>0.266173</td>\n",
       "      <td>0.0</td>\n",
       "      <td>27.50823</td>\n",
       "      <td>0.000000</td>\n",
       "      <td>3.828979</td>\n",
       "      <td>1.036739</td>\n",
       "      <td>0.033052</td>\n",
       "      <td>0.856632</td>\n",
       "      <td>0.231232</td>\n",
       "      <td>0.742199</td>\n",
       "    </tr>\n",
       "    <tr>\n",
       "      <th>2</th>\n",
       "      <td>3</td>\n",
       "      <td>0.0</td>\n",
       "      <td>3</td>\n",
       "      <td>Z</td>\n",
       "      <td>4</td>\n",
       "      <td>J3</td>\n",
       "      <td>B</td>\n",
       "      <td>B</td>\n",
       "      <td>2</td>\n",
       "      <td>4</td>\n",
       "      <td>...</td>\n",
       "      <td>0.979517</td>\n",
       "      <td>0.0</td>\n",
       "      <td>0.00000</td>\n",
       "      <td>0.456134</td>\n",
       "      <td>0.098790</td>\n",
       "      <td>1.076535</td>\n",
       "      <td>0.566352</td>\n",
       "      <td>0.696013</td>\n",
       "      <td>0.693695</td>\n",
       "      <td>0.070654</td>\n",
       "    </tr>\n",
       "    <tr>\n",
       "      <th>3</th>\n",
       "      <td>4</td>\n",
       "      <td>0.0</td>\n",
       "      <td>3</td>\n",
       "      <td>Z</td>\n",
       "      <td>4</td>\n",
       "      <td>H1</td>\n",
       "      <td>B</td>\n",
       "      <td>Z</td>\n",
       "      <td>3</td>\n",
       "      <td>4</td>\n",
       "      <td>...</td>\n",
       "      <td>0.308761</td>\n",
       "      <td>0.0</td>\n",
       "      <td>0.00000</td>\n",
       "      <td>4.349042</td>\n",
       "      <td>0.401975</td>\n",
       "      <td>0.340631</td>\n",
       "      <td>0.290147</td>\n",
       "      <td>0.000000</td>\n",
       "      <td>0.000000</td>\n",
       "      <td>0.090332</td>\n",
       "    </tr>\n",
       "    <tr>\n",
       "      <th>4</th>\n",
       "      <td>5</td>\n",
       "      <td>0.0</td>\n",
       "      <td>Z</td>\n",
       "      <td>Z</td>\n",
       "      <td>Z</td>\n",
       "      <td>H1</td>\n",
       "      <td>Z</td>\n",
       "      <td>Z</td>\n",
       "      <td>2</td>\n",
       "      <td>4</td>\n",
       "      <td>...</td>\n",
       "      <td>2.171972</td>\n",
       "      <td>0.0</td>\n",
       "      <td>0.00000</td>\n",
       "      <td>0.514990</td>\n",
       "      <td>0.516095</td>\n",
       "      <td>1.016120</td>\n",
       "      <td>1.313732</td>\n",
       "      <td>1.338487</td>\n",
       "      <td>2.948202</td>\n",
       "      <td>0.816485</td>\n",
       "    </tr>\n",
       "  </tbody>\n",
       "</table>\n",
       "<p>5 rows × 302 columns</p>\n",
       "</div>"
      ],
      "text/plain": [
       "   id  target var1 var2 var3 var4 var5 var6 var7 var8      ...       \\\n",
       "0   1     0.0    Z    Z    Z   N1    Z    Z    3    1      ...        \n",
       "1   2     0.0    Z    Z    Z   C1    Z    Z    3    2      ...        \n",
       "2   3     0.0    3    Z    4   J3    B    B    2    4      ...        \n",
       "3   4     0.0    3    Z    4   H1    B    Z    3    4      ...        \n",
       "4   5     0.0    Z    Z    Z   H1    Z    Z    2    4      ...        \n",
       "\n",
       "  weatherVar227  weatherVar228  weatherVar229  weatherVar230  weatherVar231  \\\n",
       "0      0.170351            0.0        0.00000       0.000000       1.117353   \n",
       "1      0.266173            0.0       27.50823       0.000000       3.828979   \n",
       "2      0.979517            0.0        0.00000       0.456134       0.098790   \n",
       "3      0.308761            0.0        0.00000       4.349042       0.401975   \n",
       "4      2.171972            0.0        0.00000       0.514990       0.516095   \n",
       "\n",
       "   weatherVar232  weatherVar233  weatherVar234  weatherVar235 weatherVar236  \n",
       "0       1.215303       0.112556       2.355737       0.404655      0.138667  \n",
       "1       1.036739       0.033052       0.856632       0.231232      0.742199  \n",
       "2       1.076535       0.566352       0.696013       0.693695      0.070654  \n",
       "3       0.340631       0.290147       0.000000       0.000000      0.090332  \n",
       "4       1.016120       1.313732       1.338487       2.948202      0.816485  \n",
       "\n",
       "[5 rows x 302 columns]"
      ]
     },
     "execution_count": 9,
     "metadata": {},
     "output_type": "execute_result"
    }
   ],
   "source": [
    "train.head()"
   ]
  },
  {
   "cell_type": "code",
   "execution_count": 12,
   "metadata": {
    "collapsed": true
   },
   "outputs": [],
   "source": [
    "from sklearn.preprocessing import OneHotEncoder"
   ]
  },
  {
   "cell_type": "code",
   "execution_count": 13,
   "metadata": {},
   "outputs": [
    {
     "data": {
      "text/plain": [
       "OneHotEncoder(categorical_features='all', dtype=<class 'numpy.float64'>,\n",
       "       handle_unknown='error', n_values='auto', sparse=True)"
      ]
     },
     "execution_count": 13,
     "metadata": {},
     "output_type": "execute_result"
    }
   ],
   "source": [
    "enc = OneHotEncoder()\n",
    "enc.fit([[0, 0, 3], [1, 1, 0], [0, 2, 1], [1, 0, 2]])  "
   ]
  },
  {
   "cell_type": "code",
   "execution_count": 14,
   "metadata": {},
   "outputs": [
    {
     "data": {
      "text/plain": [
       "array([2, 3, 4])"
      ]
     },
     "execution_count": 14,
     "metadata": {},
     "output_type": "execute_result"
    }
   ],
   "source": [
    "enc.n_values_"
   ]
  },
  {
   "cell_type": "code",
   "execution_count": 15,
   "metadata": {},
   "outputs": [
    {
     "data": {
      "text/plain": [
       "array([0, 2, 5, 9], dtype=int32)"
      ]
     },
     "execution_count": 15,
     "metadata": {},
     "output_type": "execute_result"
    }
   ],
   "source": [
    "enc.feature_indices_"
   ]
  },
  {
   "cell_type": "code",
   "execution_count": 18,
   "metadata": {},
   "outputs": [
    {
     "data": {
      "text/plain": [
       "array([[ 1.,  1.,  1.]])"
      ]
     },
     "execution_count": 18,
     "metadata": {},
     "output_type": "execute_result"
    }
   ],
   "source": [
    "enc.fit_transform([[0, 1, 1]]).toarray()\n"
   ]
  }
 ],
 "metadata": {
  "kernelspec": {
   "display_name": "Python 3",
   "language": "python",
   "name": "python3"
  },
  "language_info": {
   "codemirror_mode": {
    "name": "ipython",
    "version": 3
   },
   "file_extension": ".py",
   "mimetype": "text/x-python",
   "name": "python",
   "nbconvert_exporter": "python",
   "pygments_lexer": "ipython3",
   "version": "3.6.1"
  }
 },
 "nbformat": 4,
 "nbformat_minor": 2
}
