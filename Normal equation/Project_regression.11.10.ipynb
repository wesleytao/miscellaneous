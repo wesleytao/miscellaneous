{
 "cells": [
  {
   "cell_type": "code",
   "execution_count": 89,
   "metadata": {},
   "outputs": [],
   "source": [
    "import math\n",
    "import numpy as np\n",
    "from sklearn import linear_model\n",
    "import time\n",
    "X = np.array([[ 1, 4,90],\n",
    "              [10, 5,8],\n",
    "              [ 3, 9,10],\n",
    "             [23,23,234]])\n",
    "Y=np.array([1,2,3,10])"
   ]
  },
  {
   "cell_type": "code",
   "execution_count": 77,
   "metadata": {
    "collapsed": true
   },
   "outputs": [],
   "source": [
    "# this piece of code is copied directly from the blog. this is just a decorator to measure the performance\n",
    "import time\n",
    "def timeit(method):\n",
    "    def timed(*args, **kw):\n",
    "        ts = time.time()\n",
    "        result = method(*args, **kw)\n",
    "        te = time.time()\n",
    "        if 'log_time' in kw:\n",
    "            name = kw.get('log_name', method.__name__.upper())\n",
    "            kw['log_time'][name] = int((te - ts) * 1000)\n",
    "        else:\n",
    "            print (  '{}  {} ms'.format(method.__name__, (te - ts) * 1000) )\n",
    "        return result\n",
    "    return timed"
   ]
  },
  {
   "cell_type": "code",
   "execution_count": 97,
   "metadata": {
    "scrolled": true
   },
   "outputs": [
    {
     "name": "stdout",
     "output_type": "stream",
     "text": [
      "OLS_Coefficients\n",
      "[-0.66389074  0.07519987  0.38124584  0.00070786]\n",
      "OLS_Y_predict\n",
      "[  1.   2.   3.  10.]\n",
      "OLS_Residuals\n",
      "[  1.07691633e-14  -8.88178420e-15   1.37667655e-14  -5.32907052e-15]\n",
      "OLS_AIC\n",
      "8.0\n"
     ]
    }
   ],
   "source": [
    "# Simple Least Squared Method Normal Equation\n",
    "#Linear Regression \n",
    "class LinearRegression():\n",
    "    def __init__(self,Y,X):\n",
    "        #Y is an vecotor, X is a matrix, they are numpy object\n",
    "        self.nobs=Y.shape[0]\n",
    "        self.nvar=X.shape[1]+1 # intercept included\n",
    "                \n",
    "        if self.nobs<self.nvar:                \n",
    "            raise ValueError(\"Degree of freedom is less than 0, impossible to estimate all parameters\")\n",
    "        if np.linalg.matrix_rank(X)!=min(X.shape): \n",
    "            raise ValueError(\"Matrix X does not have full rank.Only non-singular matrix apply this method.\")     \n",
    "        if Y.shape[0]!=X.shape[0]: \n",
    "            raise ValueError(\"Their dims don't match. nrow of Y={}, nrow of X={}\".format(Y.shape[0],X.shape[0]))       \n",
    "        \n",
    "        self.Y=Y\n",
    "        self.X=np.insert(X,0,1,axis=1) # insert intercept into first column\n",
    "        self.result={}     \n",
    "            \n",
    "    def __str__(self):\n",
    "        return(\"Linear Regression Model: \\nnumber of observations={}\\nnumber of variables={} (intercept included)\".format(self.Y.shape[0],self.X.shape[1]))\n",
    "    def __repr__(self):\n",
    "        return(self.__str__())\n",
    "   \n",
    "    @timeit\n",
    "    def NormalEquation(self):\n",
    "        ''' OLS normal equation method ： this formular require X to be full rank '''\n",
    "        # run the complete regression include all the variables           \n",
    "        X = self.X\n",
    "        XtX_inv=np.linalg.inv(np.dot(X.T,X))\n",
    "        self.result[\"OLS_Coefficients\"]=np.dot(np.dot(XtX_inv,X.T),Y)\n",
    "        self.result[\"OLS_Y_predict\"]=np.dot(self.X,self.result[\"OLS_Coefficients\"])\n",
    "        self.result[\"OLS_Residuals\"]=self.Y-self.result[\"OLS_Y_predict\"]\n",
    "        self.result[\"OLS_AIC\"]=self.nobs*np.power(self.result[\"OLS_Residuals\"],2).sum()+self.nvar*2\n",
    "#         self.result[\"OLS_Y_predict\"]=\n",
    "        for keys,values in self.result.items():\n",
    "            print(keys)\n",
    "            print(values)\n",
    "        \n",
    "       \n",
    "    \n",
    "mymodel=LinearRegression(Y=Y,X=X)\n",
    "mymodel.NormalEquation()"
   ]
  },
  {
   "cell_type": "code",
   "execution_count": 4,
   "metadata": {},
   "outputs": [
    {
     "data": {
      "text/plain": [
       "array([ -95,  -22,  -20, -271])"
      ]
     },
     "execution_count": 4,
     "metadata": {},
     "output_type": "execute_result"
    }
   ],
   "source": [
    "mymodel.GetResidual(coe=[1,1,1,1])"
   ]
  },
  {
   "cell_type": "code",
   "execution_count": 92,
   "metadata": {},
   "outputs": [
    {
     "data": {
      "text/plain": [
       "{0: array([0, 0, 0, 0]),\n",
       " 1: [0, 0, 0, 0.039289114566804187],\n",
       " 2: [0, 0.28143477550791052, 0, 0.014361013695887676],\n",
       " 3: [0, 0.087098869903475748, 0.31256846241576219, 0.0024502078212224887],\n",
       " 4: [-0.66389073950699551,\n",
       "  0.075199866755496447,\n",
       "  0.38124583610926144,\n",
       "  0.00070786142571611574]}"
      ]
     },
     "execution_count": 92,
     "metadata": {},
     "output_type": "execute_result"
    }
   ],
   "source": [
    "class ForwardSelection(LinearRegression):\n",
    "    '''step-wise selection of variables, each time put the most correlated variable into the model   '''\n",
    "    def __init__(self,Y,X):\n",
    "        LinearRegression.__init__(self,Y=Y,X=X)\n",
    "        self.active=[]\n",
    "        self.inactive=[i for i in range(self.nvar)]\n",
    "        self.coeset={0:np.array([0 for i in range(self.nvar)])}# initialize the first round coe\n",
    "    \n",
    "    def OLS(self,X=None):\n",
    "        ''' OLS normal equation method ： this formular require X to be full rank '''  \n",
    "        X= self.X if X is None else X\n",
    "        XtX_inv=np.linalg.inv(np.dot(X.T,X))\n",
    "        self.coe=np.dot(np.dot(XtX_inv,X.T),Y)\n",
    "        return(self.coe)\n",
    "    \n",
    "    def GetResidual(self,coe=None):\n",
    "        coe = self.coe if coe is None else coe\n",
    "        if coe is None:\n",
    "            coe = ForwardSelection.OLS(self)  \n",
    "        return(self.Y-np.dot(self.X,coe)) \n",
    "               \n",
    "    def stepwise(self):\n",
    "        for j in range(self.nvar):\n",
    "            last_residual=self.GetResidual(coe=self.coeset[j]) # residual from last run\n",
    "            list_of_cov=[np.dot(self.X[:,i],last_residual) for i in self.inactive]  # see the all the covariance of redisual and inactive variables\n",
    "            nextvar=self.inactive[list_of_cov.index(max(list_of_cov))] # choose the variable that is most correlated with the residuals\n",
    "            \n",
    "            # move this variable from inactive set to active set\n",
    "            self.active.append(nextvar) \n",
    "            self.inactive.remove(nextvar)\n",
    "            \n",
    "            X=self.X[:,self.active]#picking all the variables in active set\n",
    "            newcoe=ForwardSelection.OLS(self,X=X)# use this slice of X to run linear regression and get coeffecients\n",
    "            # but the form [c,d,a,b] is not what we want, we would like to have form like this [0,a,0,b,c,d,0,0]\n",
    "            finalcoe=[None for i in range(self.nvar)] \n",
    "            for i in range(len(finalcoe)):\n",
    "                finalcoe[i]= newcoe[self.active.index(i)] if i in self.active else 0\n",
    "            # store coeffecient result in a dict            \n",
    "            self.coeset[j+1]=finalcoe\n",
    "        return(self.coeset)              \n",
    "        \n",
    "mymodel=ForwardSelection(Y=Y,X=X)\n",
    "mymodel.stepwise()"
   ]
  },
  {
   "cell_type": "code",
   "execution_count": 99,
   "metadata": {},
   "outputs": [
    {
     "name": "stdout",
     "output_type": "stream",
     "text": [
      "[ 0.07519987  0.38124584  0.00070786]\n",
      "--- 0.04764533042907715 seconds ---\n"
     ]
    }
   ],
   "source": [
    "reg = linear_model.LinearRegression()\n",
    "start_time = time.time()\n",
    "reg.fit (X, Y)\n",
    "print(reg.coef_)\n",
    "print(\"--- %s seconds ---\" % (time.time() - start_time))"
   ]
  },
  {
   "cell_type": "code",
   "execution_count": 115,
   "metadata": {},
   "outputs": [],
   "source": [
    "import pandas as pd\n",
    "import os\n",
    "# train = pd.read_csv(\"C:\\\\Users\\\\Wesle\\\\python_project\\\\train.csv\")\n",
    "ep=os.path.expanduser('~/python_project/train_sample.csv')\n",
    "os.path.normpath(ep)\n",
    "train = pd.read_csv(os.path.normpath(ep))"
   ]
  },
  {
   "cell_type": "code",
   "execution_count": 117,
   "metadata": {},
   "outputs": [
    {
     "data": {
      "text/html": [
       "<div>\n",
       "<style>\n",
       "    .dataframe thead tr:only-child th {\n",
       "        text-align: right;\n",
       "    }\n",
       "\n",
       "    .dataframe thead th {\n",
       "        text-align: left;\n",
       "    }\n",
       "\n",
       "    .dataframe tbody tr th {\n",
       "        vertical-align: top;\n",
       "    }\n",
       "</style>\n",
       "<table border=\"1\" class=\"dataframe\">\n",
       "  <thead>\n",
       "    <tr style=\"text-align: right;\">\n",
       "      <th></th>\n",
       "      <th>weatherVar1</th>\n",
       "      <th>weatherVar2</th>\n",
       "      <th>weatherVar3</th>\n",
       "      <th>weatherVar4</th>\n",
       "      <th>weatherVar5</th>\n",
       "      <th>weatherVar6</th>\n",
       "      <th>weatherVar7</th>\n",
       "      <th>weatherVar8</th>\n",
       "      <th>weatherVar9</th>\n",
       "      <th>weatherVar10</th>\n",
       "      <th>...</th>\n",
       "      <th>weatherVar90</th>\n",
       "      <th>weatherVar91</th>\n",
       "      <th>weatherVar92</th>\n",
       "      <th>weatherVar93</th>\n",
       "      <th>weatherVar94</th>\n",
       "      <th>weatherVar95</th>\n",
       "      <th>weatherVar96</th>\n",
       "      <th>weatherVar97</th>\n",
       "      <th>weatherVar98</th>\n",
       "      <th>weatherVar99</th>\n",
       "    </tr>\n",
       "  </thead>\n",
       "  <tbody>\n",
       "    <tr>\n",
       "      <th>0</th>\n",
       "      <td>7.951660</td>\n",
       "      <td>0.0</td>\n",
       "      <td>0.882133</td>\n",
       "      <td>1.635643</td>\n",
       "      <td>0.420159</td>\n",
       "      <td>0.923142</td>\n",
       "      <td>0.663614</td>\n",
       "      <td>9.497982</td>\n",
       "      <td>28.999883</td>\n",
       "      <td>0.567442</td>\n",
       "      <td>...</td>\n",
       "      <td>1.014915</td>\n",
       "      <td>0.150259</td>\n",
       "      <td>0.887304</td>\n",
       "      <td>0.051609</td>\n",
       "      <td>0.288339</td>\n",
       "      <td>0.000000</td>\n",
       "      <td>0.000000</td>\n",
       "      <td>0.000000</td>\n",
       "      <td>1.000850</td>\n",
       "      <td>0.000000</td>\n",
       "    </tr>\n",
       "    <tr>\n",
       "      <th>1</th>\n",
       "      <td>0.446103</td>\n",
       "      <td>0.0</td>\n",
       "      <td>1.147721</td>\n",
       "      <td>0.009012</td>\n",
       "      <td>1.157393</td>\n",
       "      <td>0.015541</td>\n",
       "      <td>1.187234</td>\n",
       "      <td>0.609595</td>\n",
       "      <td>0.000000</td>\n",
       "      <td>1.182801</td>\n",
       "      <td>...</td>\n",
       "      <td>0.022423</td>\n",
       "      <td>1.133088</td>\n",
       "      <td>0.068884</td>\n",
       "      <td>1.390399</td>\n",
       "      <td>1.179081</td>\n",
       "      <td>0.000000</td>\n",
       "      <td>1.330108</td>\n",
       "      <td>0.000000</td>\n",
       "      <td>0.089960</td>\n",
       "      <td>3.864054</td>\n",
       "    </tr>\n",
       "    <tr>\n",
       "      <th>2</th>\n",
       "      <td>0.204195</td>\n",
       "      <td>0.0</td>\n",
       "      <td>0.919459</td>\n",
       "      <td>0.574934</td>\n",
       "      <td>1.246018</td>\n",
       "      <td>1.247934</td>\n",
       "      <td>0.949284</td>\n",
       "      <td>0.000000</td>\n",
       "      <td>0.000000</td>\n",
       "      <td>0.975163</td>\n",
       "      <td>...</td>\n",
       "      <td>0.537857</td>\n",
       "      <td>1.199227</td>\n",
       "      <td>1.186464</td>\n",
       "      <td>1.065602</td>\n",
       "      <td>0.930882</td>\n",
       "      <td>1.061094</td>\n",
       "      <td>0.430091</td>\n",
       "      <td>1.552867</td>\n",
       "      <td>0.937563</td>\n",
       "      <td>0.000000</td>\n",
       "    </tr>\n",
       "    <tr>\n",
       "      <th>3</th>\n",
       "      <td>0.361528</td>\n",
       "      <td>0.0</td>\n",
       "      <td>0.983296</td>\n",
       "      <td>0.275168</td>\n",
       "      <td>0.200429</td>\n",
       "      <td>0.146865</td>\n",
       "      <td>0.632942</td>\n",
       "      <td>0.000000</td>\n",
       "      <td>0.000000</td>\n",
       "      <td>0.188620</td>\n",
       "      <td>...</td>\n",
       "      <td>0.079324</td>\n",
       "      <td>0.233150</td>\n",
       "      <td>0.834495</td>\n",
       "      <td>0.308850</td>\n",
       "      <td>0.264988</td>\n",
       "      <td>0.794054</td>\n",
       "      <td>0.147524</td>\n",
       "      <td>0.000000</td>\n",
       "      <td>0.409568</td>\n",
       "      <td>5.600170</td>\n",
       "    </tr>\n",
       "    <tr>\n",
       "      <th>4</th>\n",
       "      <td>0.205732</td>\n",
       "      <td>0.0</td>\n",
       "      <td>1.128833</td>\n",
       "      <td>0.390005</td>\n",
       "      <td>1.222026</td>\n",
       "      <td>0.003105</td>\n",
       "      <td>1.200807</td>\n",
       "      <td>0.000000</td>\n",
       "      <td>0.000000</td>\n",
       "      <td>1.212844</td>\n",
       "      <td>...</td>\n",
       "      <td>0.025181</td>\n",
       "      <td>0.939496</td>\n",
       "      <td>0.125041</td>\n",
       "      <td>1.357594</td>\n",
       "      <td>1.175480</td>\n",
       "      <td>0.000000</td>\n",
       "      <td>0.598360</td>\n",
       "      <td>0.000000</td>\n",
       "      <td>0.128166</td>\n",
       "      <td>0.000000</td>\n",
       "    </tr>\n",
       "  </tbody>\n",
       "</table>\n",
       "<p>5 rows × 99 columns</p>\n",
       "</div>"
      ],
      "text/plain": [
       "   weatherVar1  weatherVar2  weatherVar3  weatherVar4  weatherVar5  \\\n",
       "0     7.951660          0.0     0.882133     1.635643     0.420159   \n",
       "1     0.446103          0.0     1.147721     0.009012     1.157393   \n",
       "2     0.204195          0.0     0.919459     0.574934     1.246018   \n",
       "3     0.361528          0.0     0.983296     0.275168     0.200429   \n",
       "4     0.205732          0.0     1.128833     0.390005     1.222026   \n",
       "\n",
       "   weatherVar6  weatherVar7  weatherVar8  weatherVar9  weatherVar10  \\\n",
       "0     0.923142     0.663614     9.497982    28.999883      0.567442   \n",
       "1     0.015541     1.187234     0.609595     0.000000      1.182801   \n",
       "2     1.247934     0.949284     0.000000     0.000000      0.975163   \n",
       "3     0.146865     0.632942     0.000000     0.000000      0.188620   \n",
       "4     0.003105     1.200807     0.000000     0.000000      1.212844   \n",
       "\n",
       "       ...       weatherVar90  weatherVar91  weatherVar92  weatherVar93  \\\n",
       "0      ...           1.014915      0.150259      0.887304      0.051609   \n",
       "1      ...           0.022423      1.133088      0.068884      1.390399   \n",
       "2      ...           0.537857      1.199227      1.186464      1.065602   \n",
       "3      ...           0.079324      0.233150      0.834495      0.308850   \n",
       "4      ...           0.025181      0.939496      0.125041      1.357594   \n",
       "\n",
       "   weatherVar94  weatherVar95  weatherVar96  weatherVar97  weatherVar98  \\\n",
       "0      0.288339      0.000000      0.000000      0.000000      1.000850   \n",
       "1      1.179081      0.000000      1.330108      0.000000      0.089960   \n",
       "2      0.930882      1.061094      0.430091      1.552867      0.937563   \n",
       "3      0.264988      0.794054      0.147524      0.000000      0.409568   \n",
       "4      1.175480      0.000000      0.598360      0.000000      0.128166   \n",
       "\n",
       "   weatherVar99  \n",
       "0      0.000000  \n",
       "1      3.864054  \n",
       "2      0.000000  \n",
       "3      5.600170  \n",
       "4      0.000000  \n",
       "\n",
       "[5 rows x 99 columns]"
      ]
     },
     "execution_count": 117,
     "metadata": {},
     "output_type": "execute_result"
    }
   ],
   "source": [
    "X=train.filter(regex=\"weatherVar[0-9]{1,2}$\")\n",
    "X.head()"
   ]
  },
  {
   "cell_type": "code",
   "execution_count": 118,
   "metadata": {},
   "outputs": [
    {
     "data": {
      "text/plain": [
       "(4486, 9)"
      ]
     },
     "execution_count": 118,
     "metadata": {},
     "output_type": "execute_result"
    }
   ],
   "source": [
    "X=sample.filter(regex=\"weatherVar[0-9]{1}$\").values\n",
    "Y=sample['target'].values\n",
    "sampledata=np.insert(X,0,Y,axis=1)\n",
    "sampledata=sampledata[~np.isnan(sampledata).any(1)]\n",
    "# X=X[~np.isnan(X).any(1)]\n",
    "# X.shape\n",
    "Y=sampledata[:,0]\n",
    "X=sampledata[:,1:]\n",
    "X.shape"
   ]
  },
  {
   "cell_type": "code",
   "execution_count": 103,
   "metadata": {
    "collapsed": true
   },
   "outputs": [],
   "source": [
    "pd.DataFrame(sampledata).to_csv(\"sampledata.csv\")"
   ]
  },
  {
   "cell_type": "code",
   "execution_count": 105,
   "metadata": {},
   "outputs": [
    {
     "name": "stdout",
     "output_type": "stream",
     "text": [
      "[ 0.00051525 -0.0005168   0.02991231 -0.00027858  0.01538864 -0.00103764\n",
      "  0.01178    -0.00017288 -0.0005513 ]\n",
      "--- 0.03363490104675293 seconds ---\n"
     ]
    }
   ],
   "source": [
    "reg = linear_model.LinearRegression()\n",
    "start_time = time.time()\n",
    "reg.fit (sampledata[:,1:], sampledata[:,0])\n",
    "print(reg.coef_)\n",
    "print(\"--- %s seconds ---\" % (time.time() - start_time))"
   ]
  },
  {
   "cell_type": "code",
   "execution_count": 107,
   "metadata": {},
   "outputs": [
    {
     "name": "stdout",
     "output_type": "stream",
     "text": [
      "OLS_Coefficients\n",
      "[-0.04368254  0.00051525 -0.0005168   0.02991231 -0.00027858  0.01538864\n",
      " -0.00103764  0.01178    -0.00017288 -0.0005513 ]\n",
      "OLS_Y_predict\n",
      "[ 0.0053151   0.03001741  0.00991091 ...,  0.01508422  0.01496253\n",
      "  0.01732354]\n",
      "OLS_Residuals\n",
      "[-0.0053151  -0.03001741 -0.00991091 ..., -0.01508422 -0.01496253\n",
      " -0.01732354]\n",
      "OLS_AIC\n",
      "1344374.76639\n"
     ]
    }
   ],
   "source": [
    "mymodel=LinearRegression(Y=sampledata[:,0],X=sampledata[:,1:])\n",
    "mymodel.NormalEquation()"
   ]
  },
  {
   "cell_type": "code",
   "execution_count": 110,
   "metadata": {},
   "outputs": [
    {
     "data": {
      "text/plain": [
       "{0: array([0, 0, 0, 0, 0, 0, 0, 0, 0, 0]),\n",
       " 1: [0, 0, 0, 0, 0, 0.011737955661925127, 0, 0, 0, 0],\n",
       " 2: [0, 0, 0, 0, 0, 0.0078184742284703873, 0, 0.004282513848635738, 0, 0],\n",
       " 3: [0,\n",
       "  0,\n",
       "  0,\n",
       "  -0.03162173489819077,\n",
       "  0,\n",
       "  0.0041368256307888068,\n",
       "  0,\n",
       "  0.039466581217143359,\n",
       "  0,\n",
       "  0],\n",
       " 4: [0,\n",
       "  0,\n",
       "  0,\n",
       "  -0.033649020514565503,\n",
       "  0,\n",
       "  0.0041301428429678707,\n",
       "  0,\n",
       "  0.041445120069362455,\n",
       "  5.3526928831578642e-05,\n",
       "  0],\n",
       " 5: [-0.04916427518150189,\n",
       "  0,\n",
       "  0,\n",
       "  0.027575437726332537,\n",
       "  0,\n",
       "  0.012795951992400917,\n",
       "  0,\n",
       "  0.020220893689558143,\n",
       "  -0.00011744839680865284,\n",
       "  0],\n",
       " 6: [-0.04846190381639668,\n",
       "  -0.00015742458274609636,\n",
       "  0,\n",
       "  0.027078558297721603,\n",
       "  0,\n",
       "  0.012793044779213445,\n",
       "  0,\n",
       "  0.02016148172344813,\n",
       "  -0.00010714395698351666,\n",
       "  0],\n",
       " 7: [-0.04453418647290841,\n",
       "  -0.00011122814773152395,\n",
       "  0,\n",
       "  0.023025088717858834,\n",
       "  -0.00049956962163291566,\n",
       "  0.012625944482368895,\n",
       "  0,\n",
       "  0.020929449221511298,\n",
       "  -0.0001027676078705982,\n",
       "  0],\n",
       " 8: [-0.042653562701110127,\n",
       "  -0.00026749346052280744,\n",
       "  0,\n",
       "  0.025289580416194932,\n",
       "  -0.00025879686266199213,\n",
       "  0.014290171149053146,\n",
       "  -0.0010427245895715763,\n",
       "  0.016063075186875851,\n",
       "  -0.00011434149676980468,\n",
       "  0],\n",
       " 9: [-0.044677606844149446,\n",
       "  0.0005087724293048407,\n",
       "  0,\n",
       "  0.028668892004255181,\n",
       "  -0.00024663772348287595,\n",
       "  0.014364721391459131,\n",
       "  -0.0010586094914417329,\n",
       "  0.014500602009412089,\n",
       "  -0.00016050122500416427,\n",
       "  -0.00051947994942580782],\n",
       " 10: [-0.04368253577641313,\n",
       "  0.00051525362124528874,\n",
       "  -0.00051680446458767545,\n",
       "  0.029912306784268629,\n",
       "  -0.00027857748216172798,\n",
       "  0.015388640150246146,\n",
       "  -0.001037640753222309,\n",
       "  0.011779995707468332,\n",
       "  -0.0001728834148945689,\n",
       "  -0.00055130085441227391]}"
      ]
     },
     "execution_count": 110,
     "metadata": {},
     "output_type": "execute_result"
    }
   ],
   "source": [
    "mymodel=ForwardSelection(Y=sampledata[:,0],X=sampledata[:,1:])\n",
    "mymodel.stepwise()"
   ]
  },
  {
   "cell_type": "code",
   "execution_count": null,
   "metadata": {
    "collapsed": true
   },
   "outputs": [],
   "source": []
  }
 ],
 "metadata": {
  "kernelspec": {
   "display_name": "Python 3",
   "language": "python",
   "name": "python3"
  },
  "language_info": {
   "codemirror_mode": {
    "name": "ipython",
    "version": 3
   },
   "file_extension": ".py",
   "mimetype": "text/x-python",
   "name": "python",
   "nbconvert_exporter": "python",
   "pygments_lexer": "ipython3",
   "version": "3.6.1"
  }
 },
 "nbformat": 4,
 "nbformat_minor": 2
}
