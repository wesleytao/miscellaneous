{
 "cells": [
  {
   "cell_type": "code",
   "execution_count": 1,
   "metadata": {
    "collapsed": true
   },
   "outputs": [],
   "source": [
    "# model used in my project\n",
    "import math\n",
    "import numpy as np\n",
    "from sklearn import linear_model\n",
    "import time\n",
    "\n"
   ]
  },
  {
   "cell_type": "code",
   "execution_count": 2,
   "metadata": {
    "collapsed": true
   },
   "outputs": [],
   "source": [
    "# this piece of code is copied directly from the blog. I use this decorator to test performance\n",
    "\n",
    "import time\n",
    "def timeit(method):\n",
    "    def timed(*args, **kw):\n",
    "        ts = time.time()\n",
    "        result = method(*args, **kw)\n",
    "        te = time.time()\n",
    "        if 'log_time' in kw:\n",
    "            name = kw.get('log_name', method.__name__.upper())\n",
    "            kw['log_time'][name] = int((te - ts) * 1000)\n",
    "        else:\n",
    "            print (  '{}  {} ms'.format(method.__name__, (te - ts) * 1000) )\n",
    "        return result\n",
    "    return timed"
   ]
  },
  {
   "cell_type": "code",
   "execution_count": 4,
   "metadata": {
    "scrolled": true
   },
   "outputs": [],
   "source": [
    "# Simple Least Squared Method Normal Equation\n",
    "#Linear Regression \n",
    "class LinearRegression():\n",
    "    def __init__(self,Y,X):\n",
    "        #Y is an vecotor, X is a matrix, they are numpy object\n",
    "        self.nobs=Y.shape[0]\n",
    "        self.nvar=X.shape[1]+1 # intercept included\n",
    "                \n",
    "        if self.nobs<self.nvar:                \n",
    "            raise ValueError(\"Degrees of freedom are less than 0, impossible to estimate all parameters\")\n",
    "        if np.linalg.matrix_rank(X)!=min(X.shape): \n",
    "            raise ValueError(\"Matrix X does not have full rank.Only non-singular matrix apply this method.\")     \n",
    "        if Y.shape[0]!=X.shape[0]: \n",
    "            raise ValueError(\"Dimensions of X and Y don't match. nrow of Y={}, nrow of X={}\".format(Y.shape[0],X.shape[0]))       \n",
    "        \n",
    "        self.Y=Y\n",
    "        self.X=np.insert(X,0,1,axis=1) # insert intercept into first column\n",
    "        self.result={}     \n",
    "            \n",
    "    def __str__(self):\n",
    "        return(\"Linear Regression Model: \\nnumber of observations={}\\nnumber of variables={} (intercept included)\".format(self.Y.shape[0],self.X.shape[1]))\n",
    "    def __repr__(self):\n",
    "        return(self.__str__())\n",
    "   \n",
    "    @timeit\n",
    "    def NormalEquation(self):\n",
    "        ''' OLS normal equation method ： this formular require X to be full rank '''\n",
    "        # run the complete regression include all the variables           \n",
    "        X = self.X\n",
    "        XtX_inv=np.linalg.inv(np.dot(X.T,X))\n",
    "        self.result[\"OLS_Coefficients\"]=np.dot(np.dot(XtX_inv,X.T),Y)\n",
    "        self.result[\"OLS_Y_predict\"]=np.dot(self.X,self.result[\"OLS_Coefficients\"])\n",
    "        self.result[\"OLS_Residuals\"]=self.Y-self.result[\"OLS_Y_predict\"]\n",
    "        # AIC is just a statistical criteria to measure the performance of a model.\n",
    "        self.result[\"OLS_AIC\"]=self.nobs*np.power(self.result[\"OLS_Residuals\"],2).sum()+self.nvar*2\n",
    "        for keys,values in self.result.items():\n",
    "            print(keys)\n",
    "            print(values)       \n",
    "    \n"
   ]
  },
  {
   "cell_type": "code",
   "execution_count": 5,
   "metadata": {},
   "outputs": [
    {
     "name": "stdout",
     "output_type": "stream",
     "text": [
      "OLS_Coefficients\n",
      "[-0.66389074  0.07519987  0.38124584  0.00070786]\n",
      "OLS_Y_predict\n",
      "[  1.   2.   3.  10.]\n",
      "OLS_Residuals\n",
      "[  1.07691633e-14  -8.88178420e-15   1.37667655e-14  -5.32907052e-15]\n",
      "OLS_AIC\n",
      "8.0\n",
      "NormalEquation  3.009319305419922 ms\n"
     ]
    }
   ],
   "source": [
    "X = np.array([[ 1, 4,90],\n",
    "              [10, 5,8],\n",
    "              [ 3, 9,10],\n",
    "             [23,23,234]])\n",
    "Y=np.array([1,2,3,10])\n",
    "mymodel=LinearRegression(Y=Y,X=X)\n",
    "mymodel.NormalEquation()"
   ]
  },
  {
   "cell_type": "code",
   "execution_count": 6,
   "metadata": {},
   "outputs": [
    {
     "name": "stdout",
     "output_type": "stream",
     "text": [
      "[ 0.07519987  0.38124584  0.00070786]\n",
      "Scikit-learn :  0.0020008087158203125 seconds \n"
     ]
    }
   ],
   "source": [
    "reg = linear_model.LinearRegression()\n",
    "start_time = time.time()\n",
    "reg.fit (X, Y)\n",
    "print(reg.coef_)\n",
    "print(\"Scikit-learn :  %s seconds \" % (time.time() - start_time))"
   ]
  },
  {
   "cell_type": "code",
   "execution_count": 7,
   "metadata": {},
   "outputs": [],
   "source": [
    "class ForwardSelection(LinearRegression):\n",
    "    '''step-wise selection of variables, each time put the most correlated variable into the model   '''\n",
    "    def __init__(self,Y,X):\n",
    "        LinearRegression.__init__(self,Y=Y,X=X)\n",
    "        self.active=[]\n",
    "        self.inactive=[i for i in range(self.nvar)]\n",
    "        self.coeset={0:np.array([0 for i in range(self.nvar)])}# initialize the first round coe\n",
    "    \n",
    "    def OLS(self,X=None):\n",
    "        ''' OLS normal equation method ： this formular require X to be full rank '''  \n",
    "        X= self.X if X is None else X\n",
    "        XtX_inv=np.linalg.inv(np.dot(X.T,X))\n",
    "        self.coe=np.dot(np.dot(XtX_inv,X.T),Y)\n",
    "        return(self.coe)\n",
    "    \n",
    "    def GetResidual(self,coe=None):\n",
    "        coe = self.coe if coe is None else coe\n",
    "        if coe is None:\n",
    "            coe = ForwardSelection.OLS(self)  \n",
    "        return(self.Y-np.dot(self.X,coe)) \n",
    "               \n",
    "    def stepwise(self):\n",
    "        for j in range(self.nvar):\n",
    "            last_residual=self.GetResidual(coe=self.coeset[j]) # residual from last run\n",
    "            list_of_cov=[np.dot(self.X[:,i],last_residual) for i in self.inactive]  # see the all the covariance of redisual and inactive variables\n",
    "            nextvar=self.inactive[list_of_cov.index(max(list_of_cov))] # choose the variable that is most correlated with the residuals\n",
    "            \n",
    "            # move this variable from inactive set to active set\n",
    "            self.active.append(nextvar) \n",
    "            self.inactive.remove(nextvar)\n",
    "            \n",
    "            X=self.X[:,self.active]#picking all the variables in active set\n",
    "            newcoe=ForwardSelection.OLS(self,X=X)# use this slice of X to run linear regression and get coeffecients\n",
    "            # but the form [c,d,a,b] is not what we want, we would like to have form like this [0,a,0,b,c,d,0,0]\n",
    "            finalcoe=[None for i in range(self.nvar)] \n",
    "            for i in range(len(finalcoe)):\n",
    "                finalcoe[i]= newcoe[self.active.index(i)] if i in self.active else 0\n",
    "            # store coeffecient result in a dict            \n",
    "            self.coeset[j+1]=finalcoe\n",
    "        return(self.coeset)              \n",
    "        \n"
   ]
  },
  {
   "cell_type": "code",
   "execution_count": 8,
   "metadata": {},
   "outputs": [
    {
     "data": {
      "text/plain": [
       "{0: array([0, 0, 0, 0]),\n",
       " 1: [0, 0, 0, 0.039289114566804187],\n",
       " 2: [0, 0.28143477550791052, 0, 0.014361013695887676],\n",
       " 3: [0, 0.087098869903475748, 0.31256846241576219, 0.0024502078212224887],\n",
       " 4: [-0.66389073950699551,\n",
       "  0.075199866755496447,\n",
       "  0.38124583610926144,\n",
       "  0.00070786142571611574]}"
      ]
     },
     "execution_count": 8,
     "metadata": {},
     "output_type": "execute_result"
    }
   ],
   "source": [
    "mymodel=ForwardSelection(Y=Y,X=X)\n",
    "mymodel.stepwise()"
   ]
  },
  {
   "cell_type": "code",
   "execution_count": 9,
   "metadata": {
    "collapsed": true
   },
   "outputs": [],
   "source": [
    "import pandas as pd\n",
    "import os\n",
    "# I would like to test my stepwise feature forward selection model for data from real world.\n",
    "# this data set is download from kaggle.com https://www.kaggle.com/c/liberty-mutual-fire-peril\n",
    "# 1% was drawn from the original data for convenience.\n",
    "ep=os.path.expanduser('~/python_project/train_sample.csv')\n",
    "os.path.normpath(ep)\n",
    "train = pd.read_csv(os.path.normpath(ep))"
   ]
  },
  {
   "cell_type": "code",
   "execution_count": 10,
   "metadata": {
    "scrolled": true
   },
   "outputs": [
    {
     "data": {
      "text/html": [
       "<div>\n",
       "<style>\n",
       "    .dataframe thead tr:only-child th {\n",
       "        text-align: right;\n",
       "    }\n",
       "\n",
       "    .dataframe thead th {\n",
       "        text-align: left;\n",
       "    }\n",
       "\n",
       "    .dataframe tbody tr th {\n",
       "        vertical-align: top;\n",
       "    }\n",
       "</style>\n",
       "<table border=\"1\" class=\"dataframe\">\n",
       "  <thead>\n",
       "    <tr style=\"text-align: right;\">\n",
       "      <th></th>\n",
       "      <th>weatherVar1</th>\n",
       "      <th>weatherVar2</th>\n",
       "      <th>weatherVar3</th>\n",
       "      <th>weatherVar4</th>\n",
       "      <th>weatherVar5</th>\n",
       "      <th>weatherVar6</th>\n",
       "      <th>weatherVar7</th>\n",
       "      <th>weatherVar8</th>\n",
       "      <th>weatherVar9</th>\n",
       "    </tr>\n",
       "  </thead>\n",
       "  <tbody>\n",
       "    <tr>\n",
       "      <th>0</th>\n",
       "      <td>7.951660</td>\n",
       "      <td>0.0</td>\n",
       "      <td>0.882133</td>\n",
       "      <td>1.635643</td>\n",
       "      <td>0.420159</td>\n",
       "      <td>0.923142</td>\n",
       "      <td>0.663614</td>\n",
       "      <td>9.497982</td>\n",
       "      <td>28.999883</td>\n",
       "    </tr>\n",
       "    <tr>\n",
       "      <th>1</th>\n",
       "      <td>0.446103</td>\n",
       "      <td>0.0</td>\n",
       "      <td>1.147721</td>\n",
       "      <td>0.009012</td>\n",
       "      <td>1.157393</td>\n",
       "      <td>0.015541</td>\n",
       "      <td>1.187234</td>\n",
       "      <td>0.609595</td>\n",
       "      <td>0.000000</td>\n",
       "    </tr>\n",
       "    <tr>\n",
       "      <th>2</th>\n",
       "      <td>0.204195</td>\n",
       "      <td>0.0</td>\n",
       "      <td>0.919459</td>\n",
       "      <td>0.574934</td>\n",
       "      <td>1.246018</td>\n",
       "      <td>1.247934</td>\n",
       "      <td>0.949284</td>\n",
       "      <td>0.000000</td>\n",
       "      <td>0.000000</td>\n",
       "    </tr>\n",
       "    <tr>\n",
       "      <th>3</th>\n",
       "      <td>0.361528</td>\n",
       "      <td>0.0</td>\n",
       "      <td>0.983296</td>\n",
       "      <td>0.275168</td>\n",
       "      <td>0.200429</td>\n",
       "      <td>0.146865</td>\n",
       "      <td>0.632942</td>\n",
       "      <td>0.000000</td>\n",
       "      <td>0.000000</td>\n",
       "    </tr>\n",
       "    <tr>\n",
       "      <th>4</th>\n",
       "      <td>0.205732</td>\n",
       "      <td>0.0</td>\n",
       "      <td>1.128833</td>\n",
       "      <td>0.390005</td>\n",
       "      <td>1.222026</td>\n",
       "      <td>0.003105</td>\n",
       "      <td>1.200807</td>\n",
       "      <td>0.000000</td>\n",
       "      <td>0.000000</td>\n",
       "    </tr>\n",
       "  </tbody>\n",
       "</table>\n",
       "</div>"
      ],
      "text/plain": [
       "   weatherVar1  weatherVar2  weatherVar3  weatherVar4  weatherVar5  \\\n",
       "0     7.951660          0.0     0.882133     1.635643     0.420159   \n",
       "1     0.446103          0.0     1.147721     0.009012     1.157393   \n",
       "2     0.204195          0.0     0.919459     0.574934     1.246018   \n",
       "3     0.361528          0.0     0.983296     0.275168     0.200429   \n",
       "4     0.205732          0.0     1.128833     0.390005     1.222026   \n",
       "\n",
       "   weatherVar6  weatherVar7  weatherVar8  weatherVar9  \n",
       "0     0.923142     0.663614     9.497982    28.999883  \n",
       "1     0.015541     1.187234     0.609595     0.000000  \n",
       "2     1.247934     0.949284     0.000000     0.000000  \n",
       "3     0.146865     0.632942     0.000000     0.000000  \n",
       "4     0.003105     1.200807     0.000000     0.000000  "
      ]
     },
     "execution_count": 10,
     "metadata": {},
     "output_type": "execute_result"
    }
   ],
   "source": [
    "# Y is the ratio of loss due to the fire. X is weather conditions\n",
    "X=train.filter(regex=\"weatherVar[0-9]{1}$\") # subtract the weather data set\n",
    "X.head()"
   ]
  },
  {
   "cell_type": "code",
   "execution_count": 11,
   "metadata": {},
   "outputs": [
    {
     "data": {
      "text/plain": [
       "(4486, 9)"
      ]
     },
     "execution_count": 11,
     "metadata": {},
     "output_type": "execute_result"
    }
   ],
   "source": [
    "X=train.filter(regex=\"weatherVar[0-9]{1}$\").values # treat as numpy arrays\n",
    "Y=train['target'].values\n",
    "sampledata=np.insert(X,0,Y,axis=1)\n",
    "sampledata=sampledata[~np.isnan(sampledata).any(1)] # drop the NAN values\n",
    "Y=sampledata[:,0] # first column is Y\n",
    "X=sampledata[:,1:] # columns other than first are X\n",
    "X.shape # number of the observation , number of the variable"
   ]
  },
  {
   "cell_type": "code",
   "execution_count": 12,
   "metadata": {},
   "outputs": [
    {
     "name": "stdout",
     "output_type": "stream",
     "text": [
      "[ -1.33345153e-03  -7.86503200e-06  -6.10740128e-03  -1.27538322e-03\n",
      "   7.17345310e-03  -1.53538037e-04  -1.23258110e-02  -1.06642283e-04\n",
      "  -2.96953045e-04]\n",
      "--- 0.006014823913574219 seconds ---\n"
     ]
    }
   ],
   "source": [
    "# use packages module to dig in first\n",
    "reg = linear_model.LinearRegression(fit_intercept=True)\n",
    "start_time = time.time()\n",
    "reg.fit (X, Y)\n",
    "print(reg.coef_)\n",
    "print(\"--- %s seconds ---\" % (time.time() - start_time))"
   ]
  },
  {
   "cell_type": "code",
   "execution_count": 14,
   "metadata": {},
   "outputs": [
    {
     "name": "stdout",
     "output_type": "stream",
     "text": [
      "OLS_Coefficients\n",
      "[  2.27131565e-02  -1.33345153e-03  -7.86503200e-06  -6.10740128e-03\n",
      "  -1.27538322e-03   7.17345310e-03  -1.53538037e-04  -1.23258110e-02\n",
      "  -1.06642283e-04  -2.96953045e-04]\n",
      "OLS_Y_predict\n",
      "[-0.01029543  0.00869871  0.01313807 ...,  0.00405624  0.00387245\n",
      "  0.00913794]\n",
      "OLS_Residuals\n",
      "[ 0.01029543 -0.00869871 -0.01313807 ..., -0.00405624 -0.00387245\n",
      " -0.00913794]\n",
      "OLS_AIC\n",
      "1013936.36604\n",
      "NormalEquation  5.011796951293945 ms\n"
     ]
    }
   ],
   "source": [
    "# see my model is function well, with more details \n",
    "mymodel=LinearRegression(Y=Y,X=X)\n",
    "mymodel.NormalEquation()"
   ]
  },
  {
   "cell_type": "code",
   "execution_count": 15,
   "metadata": {},
   "outputs": [
    {
     "name": "stdout",
     "output_type": "stream",
     "text": [
      "0\n",
      "[0 0 0 0 0 0 0 0 0 0]\n",
      "1\n",
      "[0, 0, 0.00031676876579415469, 0, 0, 0, 0, 0, 0, 0]\n",
      "2\n",
      "[0, 0, 2.5572863052667302e-05, 0, 0, 0.0079425454161444423, 0, 0, 0, 0]\n",
      "3\n",
      "[0.0014825179451017456, 0, 2.825848175163711e-05, 0, 0, 0.0066054168686668635, 0, 0, 0, 0]\n",
      "4\n",
      "[0.0079135446887661897, 0, 1.6158246015962224e-05, -0.0060191772267407977, 0, 0.0062656120373040776, 0, 0, 0, 0]\n",
      "5\n",
      "[0.0072288895147807619, 0, 1.3782623755335046e-05, -0.0023203151032182186, 0, 0.0068567659785199906, 0, -0.0036167084979231694, 0, 0]\n",
      "6\n",
      "[0.0082720424423057895, 0, 1.3406225899960691e-05, -0.0023667674564541337, 0, 0.0073637838623781668, -0.00033848806746898224, -0.0047871844441813236, 0, 0]\n",
      "7\n",
      "[0.016933339297769075, -0.0019335289611352782, 2.9661336499196379e-06, -0.0023835306722729786, 0, 0.0076166353231447454, -0.00041622791290102346, -0.011660178773153215, 0, 0]\n",
      "8\n",
      "[0.015978984652964781, -0.0018504417616847233, 2.5502259389063553e-06, 0.0015500404695541099, 0, 0.0077276692706368267, -0.00042105029142126474, -0.014749239973317599, -9.2540972562301654e-05, 0]\n",
      "9\n",
      "[0.014579609810529939, -0.0015169083926557295, -5.921894646754987e-06, 0.0036603818909370454, 0, 0.0078343145385139056, -0.00043277650356111192, -0.015555430446992541, -0.00011650702935711694, -0.00027486674296948462]\n",
      "10\n",
      "[0.02271315650885378, -0.0013334515330333139, -7.8650319954650137e-06, -0.0061074012817293154, -0.0012753832193623568, 0.0071734531034621215, -0.00015353803679041083, -0.012325811003398789, -0.00010664228343311064, -0.00029695304521600024]\n"
     ]
    }
   ],
   "source": [
    "#forward selection model\n",
    "mymodel=ForwardSelection(Y=sampledata[:,0],X=sampledata[:,1:])\n",
    "for key,val in mymodel.stepwise().items():\n",
    "    print(key)\n",
    "    print(val)"
   ]
  },
  {
   "cell_type": "markdown",
   "metadata": {
    "collapsed": true
   },
   "source": [
    "\n"
   ]
  }
 ],
 "metadata": {
  "kernelspec": {
   "display_name": "Python 3",
   "language": "python",
   "name": "python3"
  },
  "language_info": {
   "codemirror_mode": {
    "name": "ipython",
    "version": 3
   },
   "file_extension": ".py",
   "mimetype": "text/x-python",
   "name": "python",
   "nbconvert_exporter": "python",
   "pygments_lexer": "ipython3",
   "version": "3.6.1"
  }
 },
 "nbformat": 4,
 "nbformat_minor": 2
}
