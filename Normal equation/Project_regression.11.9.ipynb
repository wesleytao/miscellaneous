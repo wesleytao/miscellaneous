{
 "cells": [
  {
   "cell_type": "code",
   "execution_count": 3,
   "metadata": {},
   "outputs": [
    {
     "data": {
      "text/plain": [
       "array([ 1, 10,  3, 23])"
      ]
     },
     "execution_count": 3,
     "metadata": {},
     "output_type": "execute_result"
    }
   ],
   "source": [
    "import numpy as np\n",
    "from sklearn import linear_model\n",
    "import time\n",
    "\n",
    "X = np.array([[ 1, 4,90],\n",
    "              [10, 5,8],\n",
    "              [ 3, 9,10],\n",
    "             [23,23,234]])\n",
    "Y=np.array([1,2,3,10])\n",
    "X[:,0]"
   ]
  },
  {
   "cell_type": "code",
   "execution_count": 70,
   "metadata": {},
   "outputs": [
    {
     "data": {
      "text/plain": [
       "array([[ 90,   4],\n",
       "       [  8,   5],\n",
       "       [ 10,   9],\n",
       "       [234,  23]])"
      ]
     },
     "execution_count": 70,
     "metadata": {},
     "output_type": "execute_result"
    }
   ],
   "source": [
    "X[:,[2,1]]"
   ]
  },
  {
   "cell_type": "code",
   "execution_count": 19,
   "metadata": {},
   "outputs": [
    {
     "data": {
      "text/plain": [
       "(1, 2, 3, 4)"
      ]
     },
     "execution_count": 19,
     "metadata": {},
     "output_type": "execute_result"
    }
   ],
   "source": [
    "(1,2,3,4)"
   ]
  },
  {
   "cell_type": "code",
   "execution_count": 41,
   "metadata": {},
   "outputs": [
    {
     "name": "stdout",
     "output_type": "stream",
     "text": [
      "1\n",
      "2\n",
      "3\n",
      "4\n",
      "5\n",
      "6\n",
      "7\n",
      "8\n",
      "9\n",
      "10\n"
     ]
    },
    {
     "ename": "StopIteration",
     "evalue": "",
     "output_type": "error",
     "traceback": [
      "\u001b[1;31m---------------------------------------------------------------------------\u001b[0m",
      "\u001b[1;31mStopIteration\u001b[0m                             Traceback (most recent call last)",
      "\u001b[1;32m<ipython-input-41-f61b1b6b79f6>\u001b[0m in \u001b[0;36m<module>\u001b[1;34m()\u001b[0m\n\u001b[0;32m      3\u001b[0m     \u001b[0mi\u001b[0m\u001b[1;33m=\u001b[0m\u001b[0mi\u001b[0m\u001b[1;33m+\u001b[0m\u001b[1;36m1\u001b[0m\u001b[1;33m\u001b[0m\u001b[0m\n\u001b[0;32m      4\u001b[0m     \u001b[0mprint\u001b[0m\u001b[1;33m(\u001b[0m\u001b[0mi\u001b[0m\u001b[1;33m)\u001b[0m\u001b[1;33m\u001b[0m\u001b[0m\n\u001b[1;32m----> 5\u001b[1;33m \u001b[0mnext\u001b[0m\u001b[1;33m(\u001b[0m\u001b[0ma\u001b[0m\u001b[1;33m)\u001b[0m\u001b[1;33m\u001b[0m\u001b[0m\n\u001b[0m",
      "\u001b[1;31mStopIteration\u001b[0m: "
     ]
    }
   ],
   "source": [
    "a=(i for i in range(10))\n",
    "for i in a:\n",
    "    i=i+1\n",
    "    print(i)\n",
    "next(a)"
   ]
  },
  {
   "cell_type": "code",
   "execution_count": 99,
   "metadata": {},
   "outputs": [
    {
     "data": {
      "text/plain": [
       "{1: 2, 23: 3, 24: 0}"
      ]
     },
     "execution_count": 99,
     "metadata": {},
     "output_type": "execute_result"
    }
   ],
   "source": [
    "a={1:2,23:3}\n",
    "a[1+23]=0\n",
    "a"
   ]
  },
  {
   "cell_type": "code",
   "execution_count": 53,
   "metadata": {},
   "outputs": [
    {
     "data": {
      "text/plain": [
       "9"
      ]
     },
     "execution_count": 53,
     "metadata": {},
     "output_type": "execute_result"
    }
   ],
   "source": [
    "a=[i for i in range(10)]\n",
    "a.index(max(a))"
   ]
  },
  {
   "cell_type": "code",
   "execution_count": 4,
   "metadata": {
    "collapsed": true
   },
   "outputs": [],
   "source": [
    "# this piece of code is copied directly from the blog.\n",
    "import time\n",
    "def timeit(method):\n",
    "    def timed(*args, **kw):\n",
    "        ts = time.time()\n",
    "        result = method(*args, **kw)\n",
    "        te = time.time()\n",
    "        if 'log_time' in kw:\n",
    "            name = kw.get('log_name', method.__name__.upper())\n",
    "            kw['log_time'][name] = int((te - ts) * 1000)\n",
    "        else:\n",
    "            print (  '{}  {} ms'.format(method.__name__, (te - ts) * 1000) )\n",
    "        return result\n",
    "    return timed"
   ]
  },
  {
   "cell_type": "code",
   "execution_count": 5,
   "metadata": {},
   "outputs": [
    {
     "data": {
      "text/plain": [
       "array([  1.07691633e-14,  -8.88178420e-15,   1.37667655e-14,\n",
       "        -5.32907052e-15])"
      ]
     },
     "execution_count": 5,
     "metadata": {},
     "output_type": "execute_result"
    }
   ],
   "source": [
    "# Simple Least Squared Method Normal Equation\n",
    "#Linear Regression \n",
    "class LinearRegression():\n",
    "    def __init__(self,Y,X):\n",
    "        #Y is an vecotor, X is a matrix, they are numpy object\n",
    "        self.nobs=Y.shape[0]\n",
    "        self.nvar=X.shape[1]+1 # intercept included\n",
    "        if self.nobs<self.nvar:\n",
    "            raise ValueError(\"degree of freedom is less than 0, impossible to estimate all parameters\")\n",
    "        else: pass\n",
    "        if np.linalg.matrix_rank(X)==min(X.shape):\n",
    "            # full rank \n",
    "            pass\n",
    "        else:\n",
    "            raise ValueError(\"matrix X does not have full rank.Only non-singular matrix apply this method.\")\n",
    "        \n",
    "        if Y.shape[0]==X.shape[0]: \n",
    "            self.Y=Y\n",
    "            self.X=np.insert(X,0,1,axis=1)\n",
    "            self.coe=None\n",
    "        else: raise ValueError(\"their dims doesn't match. nrow of Y={}, nrow of X={}\".format(Y.shape[0],X.shape[0]))\n",
    "            \n",
    "    def __str__(self):\n",
    "        return(\"Linear Regression Model: \\nnumber of observations={}\\nnumber of variables={} (intercept included)\".format(self.Y.shape[0],self.X.shape[1]))\n",
    "    def __repr__(self):\n",
    "        return(self.__str__())\n",
    "   \n",
    "#     @timeit\n",
    "    def OLS(self,X=None):\n",
    "        ''' OLS normal equation method ： this formular require X to be full rank '''  \n",
    "        X= self.X if X is None else X\n",
    "        XtX_inv=np.linalg.inv(np.dot(X.T,X))\n",
    "        self.coe=np.dot(np.dot(XtX_inv,X.T),Y)\n",
    "        return(self.coe)\n",
    "    \n",
    "    def GetResidual(self,coe=None):\n",
    "        coe = self.coe if coe is None else coe\n",
    "        if coe is None:\n",
    "            coe = LinearRegression.OLS(self)  \n",
    "        return(self.Y-np.dot(self.X,coe))\n",
    "    \n",
    "mymodel=LinearRegression(Y=Y,X=X)\n",
    "mymodel.GetResidual()"
   ]
  },
  {
   "cell_type": "code",
   "execution_count": 49,
   "metadata": {},
   "outputs": [
    {
     "data": {
      "text/plain": [
       "array([ -95,  -22,  -20, -271])"
      ]
     },
     "execution_count": 49,
     "metadata": {},
     "output_type": "execute_result"
    }
   ],
   "source": [
    "mymodel.GetResidual(coe=[1,1,1,1])"
   ]
  },
  {
   "cell_type": "code",
   "execution_count": 76,
   "metadata": {},
   "outputs": [
    {
     "data": {
      "text/plain": [
       "True"
      ]
     },
     "execution_count": 76,
     "metadata": {},
     "output_type": "execute_result"
    }
   ],
   "source": [
    "a=[1,2,123,3]\n",
    "2 in a"
   ]
  },
  {
   "cell_type": "code",
   "execution_count": 68,
   "metadata": {},
   "outputs": [
    {
     "data": {
      "text/plain": [
       "[1, 2, 3]"
      ]
     },
     "execution_count": 68,
     "metadata": {},
     "output_type": "execute_result"
    }
   ],
   "source": [
    "a.remove(123)\n",
    "a"
   ]
  },
  {
   "cell_type": "code",
   "execution_count": 6,
   "metadata": {},
   "outputs": [
    {
     "data": {
      "text/plain": [
       "{0: array([0, 0, 0, 0]),\n",
       " 1: [0, 0, 0, 0.039289114566804187],\n",
       " 2: [0, 0.28143477550791052, 0, 0.014361013695887676],\n",
       " 3: [0, 0.087098869903475748, 0.31256846241576219, 0.0024502078212224887],\n",
       " 4: [-0.66389073950699551,\n",
       "  0.075199866755496447,\n",
       "  0.38124583610926144,\n",
       "  0.00070786142571611574]}"
      ]
     },
     "execution_count": 6,
     "metadata": {},
     "output_type": "execute_result"
    }
   ],
   "source": [
    "class ForwardSelection(LinearRegression):\n",
    "    '''step-wise selection of variables, each time put the most correlated variable into the model   '''\n",
    "    def __init__(self,Y,X):\n",
    "        LinearRegression.__init__(self,Y=Y,X=X)\n",
    "        self.active=[]\n",
    "        self.inactive=[i for i in range(self.nvar)]\n",
    "        self.coeset={0:np.array([0 for i in range(self.nvar)])}# initialize the first round coe\n",
    "        \n",
    "    def printnvar(self):\n",
    "        print(self.active)\n",
    "        print(self.coeset)\n",
    "    def stepwise(self):\n",
    "        for j in range(self.nvar):\n",
    "            last_residual=self.GetResidual(coe=self.coeset[j]) # residual from last time\n",
    "            list_of_cov=[np.dot(self.X[:,i],last_residual) for i in self.inactive]  # see the all the covariance of redisual and inactive variables\n",
    "#             print(\"this time we have the leftinactive coes{}\".format(list_of_cov))\n",
    "            nextvar=self.inactive[list_of_cov.index(max(list_of_cov))]\n",
    "#             print(\"inactive {}  ready to put nextvar {} into active active {} \".format(self.inactive,nextvar,self.active))\n",
    "            self.active.append(nextvar)\n",
    "#             print(\"inactive {} active {} ready to remove nextvar {}\".format(self.inactive,self.active,nextvar))\n",
    "            self.inactive.remove(nextvar)\n",
    "#             print(\"now finally inactive {} active {} \".format(self.inactive,self.active))\n",
    "            # update the coefficients\n",
    "            X=self.X[:,self.active]# subset the X picking the var in active set\n",
    "            newcoe=ForwardSelection.OLS(self,X=X)# use this slice of X to get coe\n",
    "            finalcoe=[None for i in range(self.nvar)]\n",
    "            for i in range(len(finalcoe)):\n",
    "                finalcoe[i]= newcoe[self.active.index(i)] if i in self.active else 0\n",
    "            self.coeset[j+1]=finalcoe\n",
    "        return(self.coeset)\n",
    "           \n",
    "               \n",
    "                \n",
    "        \n",
    "mymodel=ForwardSelection(Y=Y,X=X)\n",
    "mymodel.stepwise()"
   ]
  },
  {
   "cell_type": "code",
   "execution_count": 119,
   "metadata": {},
   "outputs": [
    {
     "data": {
      "text/plain": [
       "array([-0.66389074,  0.07519987,  0.38124584,  0.00070786])"
      ]
     },
     "execution_count": 119,
     "metadata": {},
     "output_type": "execute_result"
    }
   ],
   "source": [
    "mymodel.OLS()"
   ]
  },
  {
   "cell_type": "code",
   "execution_count": 94,
   "metadata": {},
   "outputs": [
    {
     "data": {
      "text/plain": [
       "[0, 4.09, 0, 123.34]"
      ]
     },
     "execution_count": 94,
     "metadata": {},
     "output_type": "execute_result"
    }
   ],
   "source": [
    "index=[12,3,4,1]\n",
    "coe=[1.234,123.34,23.34,4.09]\n",
    "a=[0 for i in range(len(index))]\n",
    "for i in range(len(index)):\n",
    "    a[i]=coe[index.index(i)] if i in index else 0\n",
    "a"
   ]
  },
  {
   "cell_type": "code",
   "execution_count": 176,
   "metadata": {},
   "outputs": [
    {
     "name": "stdout",
     "output_type": "stream",
     "text": [
      "[ 0.07519987  0.38124584  0.00070786]\n",
      "--- 0.0026426315307617188 seconds ---\n"
     ]
    }
   ],
   "source": [
    "reg = linear_model.LinearRegression()\n",
    "start_time = time.time()\n",
    "reg.fit (X, Y)\n",
    "print(reg.coef_)\n",
    "print(\"--- %s seconds ---\" % (time.time() - start_time))"
   ]
  },
  {
   "cell_type": "code",
   "execution_count": 9,
   "metadata": {},
   "outputs": [
    {
     "name": "stderr",
     "output_type": "stream",
     "text": [
      "C:\\Wesley_Tao\\6.Software\\Anaconda\\lib\\site-packages\\IPython\\core\\interactiveshell.py:2717: DtypeWarning: Columns (8) have mixed types. Specify dtype option on import or set low_memory=False.\n",
      "  interactivity=interactivity, compiler=compiler, result=result)\n"
     ]
    }
   ],
   "source": [
    "import pandas as pd\n",
    "import os\n",
    "# train = pd.read_csv(\"C:\\\\Users\\\\Wesle\\\\python_project\\\\train.csv\")\n",
    "ep=os.path.expanduser('~/python_project/train.csv')\n",
    "os.path.normpath(ep)\n",
    "train = pd.read_csv(os.path.normpath(ep))"
   ]
  },
  {
   "cell_type": "code",
   "execution_count": 72,
   "metadata": {},
   "outputs": [
    {
     "data": {
      "text/html": [
       "<div>\n",
       "<style>\n",
       "    .dataframe thead tr:only-child th {\n",
       "        text-align: right;\n",
       "    }\n",
       "\n",
       "    .dataframe thead th {\n",
       "        text-align: left;\n",
       "    }\n",
       "\n",
       "    .dataframe tbody tr th {\n",
       "        vertical-align: top;\n",
       "    }\n",
       "</style>\n",
       "<table border=\"1\" class=\"dataframe\">\n",
       "  <thead>\n",
       "    <tr style=\"text-align: right;\">\n",
       "      <th></th>\n",
       "      <th>id</th>\n",
       "      <th>target</th>\n",
       "      <th>var1</th>\n",
       "      <th>var2</th>\n",
       "      <th>var3</th>\n",
       "      <th>var4</th>\n",
       "      <th>var5</th>\n",
       "      <th>var6</th>\n",
       "      <th>var7</th>\n",
       "      <th>var8</th>\n",
       "      <th>...</th>\n",
       "      <th>weatherVar227</th>\n",
       "      <th>weatherVar228</th>\n",
       "      <th>weatherVar229</th>\n",
       "      <th>weatherVar230</th>\n",
       "      <th>weatherVar231</th>\n",
       "      <th>weatherVar232</th>\n",
       "      <th>weatherVar233</th>\n",
       "      <th>weatherVar234</th>\n",
       "      <th>weatherVar235</th>\n",
       "      <th>weatherVar236</th>\n",
       "    </tr>\n",
       "  </thead>\n",
       "  <tbody>\n",
       "    <tr>\n",
       "      <th>160933</th>\n",
       "      <td>320786</td>\n",
       "      <td>0.0</td>\n",
       "      <td>Z</td>\n",
       "      <td>Z</td>\n",
       "      <td>Z</td>\n",
       "      <td>H1</td>\n",
       "      <td>Z</td>\n",
       "      <td>Z</td>\n",
       "      <td>4</td>\n",
       "      <td>2</td>\n",
       "      <td>...</td>\n",
       "      <td>0.138410</td>\n",
       "      <td>0.0</td>\n",
       "      <td>0.00000</td>\n",
       "      <td>0.000000</td>\n",
       "      <td>0.689829</td>\n",
       "      <td>1.218189</td>\n",
       "      <td>0.241985</td>\n",
       "      <td>2.891132</td>\n",
       "      <td>0.404655</td>\n",
       "      <td>0.069598</td>\n",
       "    </tr>\n",
       "    <tr>\n",
       "      <th>400966</th>\n",
       "      <td>800323</td>\n",
       "      <td>0.0</td>\n",
       "      <td>Z</td>\n",
       "      <td>Z</td>\n",
       "      <td>Z</td>\n",
       "      <td>L1</td>\n",
       "      <td>Z</td>\n",
       "      <td>Z</td>\n",
       "      <td>7</td>\n",
       "      <td>1</td>\n",
       "      <td>...</td>\n",
       "      <td>0.670756</td>\n",
       "      <td>0.0</td>\n",
       "      <td>2.73363</td>\n",
       "      <td>1.000553</td>\n",
       "      <td>0.127746</td>\n",
       "      <td>1.028904</td>\n",
       "      <td>0.645856</td>\n",
       "      <td>1.338487</td>\n",
       "      <td>0.924926</td>\n",
       "      <td>0.062796</td>\n",
       "    </tr>\n",
       "    <tr>\n",
       "      <th>23538</th>\n",
       "      <td>46668</td>\n",
       "      <td>0.0</td>\n",
       "      <td>Z</td>\n",
       "      <td>Z</td>\n",
       "      <td>Z</td>\n",
       "      <td>N1</td>\n",
       "      <td>Z</td>\n",
       "      <td>Z</td>\n",
       "      <td>2</td>\n",
       "      <td>3</td>\n",
       "      <td>...</td>\n",
       "      <td>0.255526</td>\n",
       "      <td>0.0</td>\n",
       "      <td>0.00000</td>\n",
       "      <td>0.876535</td>\n",
       "      <td>0.013626</td>\n",
       "      <td>1.124578</td>\n",
       "      <td>0.872398</td>\n",
       "      <td>1.124329</td>\n",
       "      <td>0.289039</td>\n",
       "      <td>0.002641</td>\n",
       "    </tr>\n",
       "    <tr>\n",
       "      <th>443489</th>\n",
       "      <td>885649</td>\n",
       "      <td>0.0</td>\n",
       "      <td>2</td>\n",
       "      <td>Z</td>\n",
       "      <td>Z</td>\n",
       "      <td>D4</td>\n",
       "      <td>Z</td>\n",
       "      <td>Z</td>\n",
       "      <td>3</td>\n",
       "      <td>4</td>\n",
       "      <td>...</td>\n",
       "      <td>0.404583</td>\n",
       "      <td>0.0</td>\n",
       "      <td>0.00000</td>\n",
       "      <td>1.658480</td>\n",
       "      <td>0.437744</td>\n",
       "      <td>0.721676</td>\n",
       "      <td>0.499489</td>\n",
       "      <td>0.160618</td>\n",
       "      <td>0.057808</td>\n",
       "      <td>0.129158</td>\n",
       "    </tr>\n",
       "    <tr>\n",
       "      <th>193605</th>\n",
       "      <td>386429</td>\n",
       "      <td>0.0</td>\n",
       "      <td>Z</td>\n",
       "      <td>Z</td>\n",
       "      <td>Z</td>\n",
       "      <td>M1</td>\n",
       "      <td>Z</td>\n",
       "      <td>Z</td>\n",
       "      <td>5</td>\n",
       "      <td>2</td>\n",
       "      <td>...</td>\n",
       "      <td>0.383289</td>\n",
       "      <td>0.0</td>\n",
       "      <td>0.00000</td>\n",
       "      <td>0.000000</td>\n",
       "      <td>0.262306</td>\n",
       "      <td>1.165610</td>\n",
       "      <td>0.520025</td>\n",
       "      <td>1.338487</td>\n",
       "      <td>0.520271</td>\n",
       "      <td>0.073295</td>\n",
       "    </tr>\n",
       "  </tbody>\n",
       "</table>\n",
       "<p>5 rows × 302 columns</p>\n",
       "</div>"
      ],
      "text/plain": [
       "            id  target var1 var2 var3 var4 var5 var6 var7 var8      ...       \\\n",
       "160933  320786     0.0    Z    Z    Z   H1    Z    Z    4    2      ...        \n",
       "400966  800323     0.0    Z    Z    Z   L1    Z    Z    7    1      ...        \n",
       "23538    46668     0.0    Z    Z    Z   N1    Z    Z    2    3      ...        \n",
       "443489  885649     0.0    2    Z    Z   D4    Z    Z    3    4      ...        \n",
       "193605  386429     0.0    Z    Z    Z   M1    Z    Z    5    2      ...        \n",
       "\n",
       "       weatherVar227  weatherVar228  weatherVar229  weatherVar230  \\\n",
       "160933      0.138410            0.0        0.00000       0.000000   \n",
       "400966      0.670756            0.0        2.73363       1.000553   \n",
       "23538       0.255526            0.0        0.00000       0.876535   \n",
       "443489      0.404583            0.0        0.00000       1.658480   \n",
       "193605      0.383289            0.0        0.00000       0.000000   \n",
       "\n",
       "        weatherVar231  weatherVar232  weatherVar233  weatherVar234  \\\n",
       "160933       0.689829       1.218189       0.241985       2.891132   \n",
       "400966       0.127746       1.028904       0.645856       1.338487   \n",
       "23538        0.013626       1.124578       0.872398       1.124329   \n",
       "443489       0.437744       0.721676       0.499489       0.160618   \n",
       "193605       0.262306       1.165610       0.520025       1.338487   \n",
       "\n",
       "        weatherVar235 weatherVar236  \n",
       "160933       0.404655      0.069598  \n",
       "400966       0.924926      0.062796  \n",
       "23538        0.289039      0.002641  \n",
       "443489       0.057808      0.129158  \n",
       "193605       0.520271      0.073295  \n",
       "\n",
       "[5 rows x 302 columns]"
      ]
     },
     "execution_count": 72,
     "metadata": {},
     "output_type": "execute_result"
    }
   ],
   "source": [
    "sample=train.sample(frac=0.01)\n",
    "sample.head()"
   ]
  },
  {
   "cell_type": "code",
   "execution_count": 92,
   "metadata": {},
   "outputs": [
    {
     "data": {
      "text/html": [
       "<div>\n",
       "<style>\n",
       "    .dataframe thead tr:only-child th {\n",
       "        text-align: right;\n",
       "    }\n",
       "\n",
       "    .dataframe thead th {\n",
       "        text-align: left;\n",
       "    }\n",
       "\n",
       "    .dataframe tbody tr th {\n",
       "        vertical-align: top;\n",
       "    }\n",
       "</style>\n",
       "<table border=\"1\" class=\"dataframe\">\n",
       "  <thead>\n",
       "    <tr style=\"text-align: right;\">\n",
       "      <th></th>\n",
       "      <th>weatherVar1</th>\n",
       "      <th>weatherVar2</th>\n",
       "      <th>weatherVar3</th>\n",
       "      <th>weatherVar4</th>\n",
       "      <th>weatherVar5</th>\n",
       "      <th>weatherVar6</th>\n",
       "      <th>weatherVar7</th>\n",
       "      <th>weatherVar8</th>\n",
       "      <th>weatherVar9</th>\n",
       "    </tr>\n",
       "  </thead>\n",
       "  <tbody>\n",
       "    <tr>\n",
       "      <th>160933</th>\n",
       "      <td>5.364591</td>\n",
       "      <td>0.0</td>\n",
       "      <td>0.914953</td>\n",
       "      <td>0.728800</td>\n",
       "      <td>0.411371</td>\n",
       "      <td>0.624363</td>\n",
       "      <td>0.722766</td>\n",
       "      <td>7.886224</td>\n",
       "      <td>0.000000</td>\n",
       "    </tr>\n",
       "    <tr>\n",
       "      <th>400966</th>\n",
       "      <td>0.670359</td>\n",
       "      <td>0.0</td>\n",
       "      <td>0.969861</td>\n",
       "      <td>0.172978</td>\n",
       "      <td>1.225274</td>\n",
       "      <td>0.096530</td>\n",
       "      <td>1.009153</td>\n",
       "      <td>0.030262</td>\n",
       "      <td>0.000000</td>\n",
       "    </tr>\n",
       "    <tr>\n",
       "      <th>23538</th>\n",
       "      <td>7.951660</td>\n",
       "      <td>0.0</td>\n",
       "      <td>0.882133</td>\n",
       "      <td>1.635643</td>\n",
       "      <td>0.420159</td>\n",
       "      <td>0.923142</td>\n",
       "      <td>0.663614</td>\n",
       "      <td>9.497982</td>\n",
       "      <td>28.999883</td>\n",
       "    </tr>\n",
       "    <tr>\n",
       "      <th>443489</th>\n",
       "      <td>1.899472</td>\n",
       "      <td>0.0</td>\n",
       "      <td>0.979031</td>\n",
       "      <td>0.861521</td>\n",
       "      <td>1.236062</td>\n",
       "      <td>0.433009</td>\n",
       "      <td>0.989619</td>\n",
       "      <td>0.000000</td>\n",
       "      <td>0.000000</td>\n",
       "    </tr>\n",
       "    <tr>\n",
       "      <th>193605</th>\n",
       "      <td>1.742976</td>\n",
       "      <td>0.0</td>\n",
       "      <td>1.004883</td>\n",
       "      <td>0.208295</td>\n",
       "      <td>1.106129</td>\n",
       "      <td>0.070478</td>\n",
       "      <td>1.042800</td>\n",
       "      <td>0.417269</td>\n",
       "      <td>0.000000</td>\n",
       "    </tr>\n",
       "  </tbody>\n",
       "</table>\n",
       "</div>"
      ],
      "text/plain": [
       "        weatherVar1  weatherVar2  weatherVar3  weatherVar4  weatherVar5  \\\n",
       "160933     5.364591          0.0     0.914953     0.728800     0.411371   \n",
       "400966     0.670359          0.0     0.969861     0.172978     1.225274   \n",
       "23538      7.951660          0.0     0.882133     1.635643     0.420159   \n",
       "443489     1.899472          0.0     0.979031     0.861521     1.236062   \n",
       "193605     1.742976          0.0     1.004883     0.208295     1.106129   \n",
       "\n",
       "        weatherVar6  weatherVar7  weatherVar8  weatherVar9  \n",
       "160933     0.624363     0.722766     7.886224     0.000000  \n",
       "400966     0.096530     1.009153     0.030262     0.000000  \n",
       "23538      0.923142     0.663614     9.497982    28.999883  \n",
       "443489     0.433009     0.989619     0.000000     0.000000  \n",
       "193605     0.070478     1.042800     0.417269     0.000000  "
      ]
     },
     "execution_count": 92,
     "metadata": {},
     "output_type": "execute_result"
    }
   ],
   "source": [
    "X=sample.filter(regex=\"weatherVar[0-9]{1}$\")\n",
    "X.head()"
   ]
  },
  {
   "cell_type": "code",
   "execution_count": 94,
   "metadata": {},
   "outputs": [
    {
     "data": {
      "text/plain": [
       "(4488, 9)"
      ]
     },
     "execution_count": 94,
     "metadata": {},
     "output_type": "execute_result"
    }
   ],
   "source": [
    "X=sample.filter(regex=\"weatherVar[0-9]{1}$\").values\n",
    "Y=sample['target'].values\n",
    "sampledata=np.insert(X,0,Y,axis=1)\n",
    "sampledata=sampledata[~np.isnan(sampledata).any(1)]\n",
    "# X=X[~np.isnan(X).any(1)]\n",
    "# X.shape\n",
    "Y=sampledata[:,0]\n",
    "X=sampledata[:,1:]\n",
    "X.shape"
   ]
  },
  {
   "cell_type": "code",
   "execution_count": 63,
   "metadata": {
    "collapsed": true
   },
   "outputs": [],
   "source": [
    "pd.DataFrame(sampledata).to_csv(\"sampledata.csv\")\n"
   ]
  },
  {
   "cell_type": "code",
   "execution_count": 36,
   "metadata": {},
   "outputs": [
    {
     "data": {
      "text/plain": [
       "array([ 0.85525321,  0.        ,  0.85729521, ...,  0.26769738,\n",
       "        0.2312315 ,  0.45958218])"
      ]
     },
     "execution_count": 36,
     "metadata": {},
     "output_type": "execute_result"
    }
   ],
   "source": [
    "import pandas as pd \n",
    "df = pd.DataFrame(np_array)\n",
    "df.to_csv(\"file_path.csv\")"
   ]
  },
  {
   "cell_type": "code",
   "execution_count": 95,
   "metadata": {},
   "outputs": [
    {
     "name": "stdout",
     "output_type": "stream",
     "text": [
      "[  2.38684022e-05   5.68846609e-05   7.40580908e-03  -7.36000130e-05\n",
      "   2.64308171e-03   2.64453703e-05  -8.26176461e-03  -5.00243457e-05\n",
      "  -6.33878062e-05]\n",
      "--- 0.007016897201538086 seconds ---\n"
     ]
    }
   ],
   "source": [
    "reg = linear_model.LinearRegression()\n",
    "start_time = time.time()\n",
    "reg.fit (sampledata[:,1:], sampledata[:,0])\n",
    "print(reg.coef_)\n",
    "print(\"--- %s seconds ---\" % (time.time() - start_time))"
   ]
  },
  {
   "cell_type": "code",
   "execution_count": 96,
   "metadata": {},
   "outputs": [
    {
     "name": "stdout",
     "output_type": "stream",
     "text": [
      "OLS  13.03553581237793 ms\n"
     ]
    },
    {
     "data": {
      "text/plain": [
       "array([ -8.02586730e-04,   2.38684022e-05,   5.68846609e-05,\n",
       "         7.40580908e-03,  -7.36000130e-05,   2.64308171e-03,\n",
       "         2.64453703e-05,  -8.26176461e-03,  -5.00243457e-05,\n",
       "        -6.33878062e-05])"
      ]
     },
     "execution_count": 96,
     "metadata": {},
     "output_type": "execute_result"
    }
   ],
   "source": [
    "mymodel=LinearRegression(Y=sampledata[:,0],X=sampledata[:,1:])\n",
    "mymodel.OLS()"
   ]
  },
  {
   "cell_type": "code",
   "execution_count": 97,
   "metadata": {},
   "outputs": [
    {
     "name": "stdout",
     "output_type": "stream",
     "text": [
      "OLS  2.0062923431396484 ms\n"
     ]
    },
    {
     "data": {
      "text/plain": [
       "array([  3.37796739e-18,  -6.77626358e-21,   9.28077060e-17,\n",
       "         2.94089839e-18,   9.10729825e-18,  -2.43945489e-19,\n",
       "         3.29597460e-17,   1.00288701e-18,  -2.30392962e-19])"
      ]
     },
     "execution_count": 97,
     "metadata": {},
     "output_type": "execute_result"
    }
   ],
   "source": [
    "reg.coef_-mymodel.OLS()[1:]"
   ]
  },
  {
   "cell_type": "code",
   "execution_count": null,
   "metadata": {
    "collapsed": true
   },
   "outputs": [],
   "source": []
  }
 ],
 "metadata": {
  "kernelspec": {
   "display_name": "Python 3",
   "language": "python",
   "name": "python3"
  },
  "language_info": {
   "codemirror_mode": {
    "name": "ipython",
    "version": 3
   },
   "file_extension": ".py",
   "mimetype": "text/x-python",
   "name": "python",
   "nbconvert_exporter": "python",
   "pygments_lexer": "ipython3",
   "version": "3.6.1"
  }
 },
 "nbformat": 4,
 "nbformat_minor": 2
}
